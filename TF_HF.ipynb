{
  "nbformat": 4,
  "nbformat_minor": 0,
  "metadata": {
    "colab": {
      "provenance": [],
      "authorship_tag": "ABX9TyNI7KZC/Pg+60LufNDyd6u5",
      "include_colab_link": true
    },
    "kernelspec": {
      "name": "python3",
      "display_name": "Python 3"
    },
    "language_info": {
      "name": "python"
    }
  },
  "cells": [
    {
      "cell_type": "markdown",
      "metadata": {
        "id": "view-in-github",
        "colab_type": "text"
      },
      "source": [
        "<a href=\"https://colab.research.google.com/github/TristanVenot/Collab_TF_Connectivity/blob/main/TF_HF.ipynb\" target=\"_parent\"><img src=\"https://colab.research.google.com/assets/colab-badge.svg\" alt=\"Open In Colab\"/></a>"
      ]
    },
    {
      "cell_type": "code",
      "execution_count": null,
      "metadata": {
        "colab": {
          "base_uri": "https://localhost:8080/"
        },
        "id": "Xx5aueb412fE",
        "outputId": "8f0499ae-5bf6-4c98-be42-04bfd943131c"
      },
      "outputs": [
        {
          "output_type": "stream",
          "name": "stdout",
          "text": [
            "Collecting timeflux_dsp\n",
            "  Downloading timeflux_dsp-0.3.4-py3-none-any.whl.metadata (1.8 kB)\n",
            "Collecting timeflux>=0.7.1 (from timeflux_dsp)\n",
            "  Downloading timeflux-0.17.1-py3-none-any.whl.metadata (3.1 kB)\n",
            "Collecting neurokit2 (from timeflux_dsp)\n",
            "  Downloading neurokit2-0.2.10-py2.py3-none-any.whl.metadata (37 kB)\n",
            "Collecting mne (from timeflux_dsp)\n",
            "  Downloading mne-1.8.0-py3-none-any.whl.metadata (21 kB)\n",
            "Collecting networkx==2.5.1 (from timeflux>=0.7.1->timeflux_dsp)\n",
            "  Downloading networkx-2.5.1-py3-none-any.whl.metadata (4.9 kB)\n",
            "Requirement already satisfied: PyYAML>=5.1 in /usr/local/lib/python3.10/dist-packages (from timeflux>=0.7.1->timeflux_dsp) (6.0.2)\n",
            "Requirement already satisfied: numpy>=1.17 in /usr/local/lib/python3.10/dist-packages (from timeflux>=0.7.1->timeflux_dsp) (1.26.4)\n",
            "Requirement already satisfied: pandas>=0.25 in /usr/local/lib/python3.10/dist-packages (from timeflux>=0.7.1->timeflux_dsp) (2.2.2)\n",
            "Requirement already satisfied: xarray>=0.14 in /usr/local/lib/python3.10/dist-packages (from timeflux>=0.7.1->timeflux_dsp) (2024.10.0)\n",
            "Requirement already satisfied: bottleneck>=1.3 in /usr/local/lib/python3.10/dist-packages (from timeflux>=0.7.1->timeflux_dsp) (1.4.2)\n",
            "Requirement already satisfied: scipy>=1.3 in /usr/local/lib/python3.10/dist-packages (from timeflux>=0.7.1->timeflux_dsp) (1.13.1)\n",
            "Requirement already satisfied: pyzmq>=18.1 in /usr/local/lib/python3.10/dist-packages (from timeflux>=0.7.1->timeflux_dsp) (24.0.1)\n",
            "Collecting coloredlogs>=10.0 (from timeflux>=0.7.1->timeflux_dsp)\n",
            "  Downloading coloredlogs-15.0.1-py2.py3-none-any.whl.metadata (12 kB)\n",
            "Requirement already satisfied: tables>=3.6 in /usr/local/lib/python3.10/dist-packages (from timeflux>=0.7.1->timeflux_dsp) (3.10.1)\n",
            "Requirement already satisfied: Cython>=0.29.6 in /usr/local/lib/python3.10/dist-packages (from timeflux>=0.7.1->timeflux_dsp) (3.0.11)\n",
            "Collecting pylsl>=1.12.2 (from timeflux>=0.7.1->timeflux_dsp)\n",
            "  Downloading pylsl-1.16.2-py2.py3-none-any.whl.metadata (5.7 kB)\n",
            "Collecting python-osc>=1.7.0 (from timeflux>=0.7.1->timeflux_dsp)\n",
            "  Downloading python_osc-1.9.0-py3-none-any.whl.metadata (6.2 kB)\n",
            "Collecting python-dotenv>=0.10 (from timeflux>=0.7.1->timeflux_dsp)\n",
            "  Downloading python_dotenv-1.0.1-py3-none-any.whl.metadata (23 kB)\n",
            "Requirement already satisfied: jsonschema>=3.0 in /usr/local/lib/python3.10/dist-packages (from timeflux>=0.7.1->timeflux_dsp) (4.23.0)\n",
            "Requirement already satisfied: scikit-learn>=0.21.3 in /usr/local/lib/python3.10/dist-packages (from timeflux>=0.7.1->timeflux_dsp) (1.5.2)\n",
            "Requirement already satisfied: Jinja2>=2.11 in /usr/local/lib/python3.10/dist-packages (from timeflux>=0.7.1->timeflux_dsp) (3.1.4)\n",
            "Collecting colorama>=0.4.4 (from timeflux>=0.7.1->timeflux_dsp)\n",
            "  Downloading colorama-0.4.6-py2.py3-none-any.whl.metadata (17 kB)\n",
            "Requirement already satisfied: decorator<5,>=4.3 in /usr/local/lib/python3.10/dist-packages (from networkx==2.5.1->timeflux>=0.7.1->timeflux_dsp) (4.4.2)\n",
            "Requirement already satisfied: lazy-loader>=0.3 in /usr/local/lib/python3.10/dist-packages (from mne->timeflux_dsp) (0.4)\n",
            "Requirement already satisfied: matplotlib>=3.6 in /usr/local/lib/python3.10/dist-packages (from mne->timeflux_dsp) (3.8.0)\n",
            "Requirement already satisfied: packaging in /usr/local/lib/python3.10/dist-packages (from mne->timeflux_dsp) (24.2)\n",
            "Requirement already satisfied: pooch>=1.5 in /usr/local/lib/python3.10/dist-packages (from mne->timeflux_dsp) (1.8.2)\n",
            "Requirement already satisfied: tqdm in /usr/local/lib/python3.10/dist-packages (from mne->timeflux_dsp) (4.66.6)\n",
            "Requirement already satisfied: requests in /usr/local/lib/python3.10/dist-packages (from neurokit2->timeflux_dsp) (2.32.3)\n",
            "Collecting humanfriendly>=9.1 (from coloredlogs>=10.0->timeflux>=0.7.1->timeflux_dsp)\n",
            "  Downloading humanfriendly-10.0-py2.py3-none-any.whl.metadata (9.2 kB)\n",
            "Requirement already satisfied: MarkupSafe>=2.0 in /usr/local/lib/python3.10/dist-packages (from Jinja2>=2.11->timeflux>=0.7.1->timeflux_dsp) (3.0.2)\n",
            "Requirement already satisfied: attrs>=22.2.0 in /usr/local/lib/python3.10/dist-packages (from jsonschema>=3.0->timeflux>=0.7.1->timeflux_dsp) (24.2.0)\n",
            "Requirement already satisfied: jsonschema-specifications>=2023.03.6 in /usr/local/lib/python3.10/dist-packages (from jsonschema>=3.0->timeflux>=0.7.1->timeflux_dsp) (2024.10.1)\n",
            "Requirement already satisfied: referencing>=0.28.4 in /usr/local/lib/python3.10/dist-packages (from jsonschema>=3.0->timeflux>=0.7.1->timeflux_dsp) (0.35.1)\n",
            "Requirement already satisfied: rpds-py>=0.7.1 in /usr/local/lib/python3.10/dist-packages (from jsonschema>=3.0->timeflux>=0.7.1->timeflux_dsp) (0.21.0)\n",
            "Requirement already satisfied: contourpy>=1.0.1 in /usr/local/lib/python3.10/dist-packages (from matplotlib>=3.6->mne->timeflux_dsp) (1.3.1)\n",
            "Requirement already satisfied: cycler>=0.10 in /usr/local/lib/python3.10/dist-packages (from matplotlib>=3.6->mne->timeflux_dsp) (0.12.1)\n",
            "Requirement already satisfied: fonttools>=4.22.0 in /usr/local/lib/python3.10/dist-packages (from matplotlib>=3.6->mne->timeflux_dsp) (4.55.0)\n",
            "Requirement already satisfied: kiwisolver>=1.0.1 in /usr/local/lib/python3.10/dist-packages (from matplotlib>=3.6->mne->timeflux_dsp) (1.4.7)\n",
            "Requirement already satisfied: pillow>=6.2.0 in /usr/local/lib/python3.10/dist-packages (from matplotlib>=3.6->mne->timeflux_dsp) (11.0.0)\n",
            "Requirement already satisfied: pyparsing>=2.3.1 in /usr/local/lib/python3.10/dist-packages (from matplotlib>=3.6->mne->timeflux_dsp) (3.2.0)\n",
            "Requirement already satisfied: python-dateutil>=2.7 in /usr/local/lib/python3.10/dist-packages (from matplotlib>=3.6->mne->timeflux_dsp) (2.8.2)\n",
            "Requirement already satisfied: pytz>=2020.1 in /usr/local/lib/python3.10/dist-packages (from pandas>=0.25->timeflux>=0.7.1->timeflux_dsp) (2024.2)\n",
            "Requirement already satisfied: tzdata>=2022.7 in /usr/local/lib/python3.10/dist-packages (from pandas>=0.25->timeflux>=0.7.1->timeflux_dsp) (2024.2)\n",
            "Requirement already satisfied: platformdirs>=2.5.0 in /usr/local/lib/python3.10/dist-packages (from pooch>=1.5->mne->timeflux_dsp) (4.3.6)\n",
            "Requirement already satisfied: charset-normalizer<4,>=2 in /usr/local/lib/python3.10/dist-packages (from requests->neurokit2->timeflux_dsp) (3.4.0)\n",
            "Requirement already satisfied: idna<4,>=2.5 in /usr/local/lib/python3.10/dist-packages (from requests->neurokit2->timeflux_dsp) (3.10)\n",
            "Requirement already satisfied: urllib3<3,>=1.21.1 in /usr/local/lib/python3.10/dist-packages (from requests->neurokit2->timeflux_dsp) (2.2.3)\n",
            "Requirement already satisfied: certifi>=2017.4.17 in /usr/local/lib/python3.10/dist-packages (from requests->neurokit2->timeflux_dsp) (2024.8.30)\n",
            "Requirement already satisfied: joblib>=1.2.0 in /usr/local/lib/python3.10/dist-packages (from scikit-learn>=0.21.3->timeflux>=0.7.1->timeflux_dsp) (1.4.2)\n",
            "Requirement already satisfied: threadpoolctl>=3.1.0 in /usr/local/lib/python3.10/dist-packages (from scikit-learn>=0.21.3->timeflux>=0.7.1->timeflux_dsp) (3.5.0)\n",
            "Requirement already satisfied: numexpr>=2.6.2 in /usr/local/lib/python3.10/dist-packages (from tables>=3.6->timeflux>=0.7.1->timeflux_dsp) (2.10.1)\n",
            "Requirement already satisfied: py-cpuinfo in /usr/local/lib/python3.10/dist-packages (from tables>=3.6->timeflux>=0.7.1->timeflux_dsp) (9.0.0)\n",
            "Requirement already satisfied: blosc2>=2.3.0 in /usr/local/lib/python3.10/dist-packages (from tables>=3.6->timeflux>=0.7.1->timeflux_dsp) (2.7.1)\n",
            "Requirement already satisfied: typing-extensions>=4.4.0 in /usr/local/lib/python3.10/dist-packages (from tables>=3.6->timeflux>=0.7.1->timeflux_dsp) (4.12.2)\n",
            "Requirement already satisfied: ndindex>=1.4 in /usr/local/lib/python3.10/dist-packages (from blosc2>=2.3.0->tables>=3.6->timeflux>=0.7.1->timeflux_dsp) (1.9.2)\n",
            "Requirement already satisfied: msgpack in /usr/local/lib/python3.10/dist-packages (from blosc2>=2.3.0->tables>=3.6->timeflux>=0.7.1->timeflux_dsp) (1.1.0)\n",
            "Requirement already satisfied: six>=1.5 in /usr/local/lib/python3.10/dist-packages (from python-dateutil>=2.7->matplotlib>=3.6->mne->timeflux_dsp) (1.16.0)\n",
            "Downloading timeflux_dsp-0.3.4-py3-none-any.whl (25 kB)\n",
            "Downloading timeflux-0.17.1-py3-none-any.whl (70 kB)\n",
            "\u001b[2K   \u001b[90m━━━━━━━━━━━━━━━━━━━━━━━━━━━━━━━━━━━━━━━━\u001b[0m \u001b[32m70.2/70.2 kB\u001b[0m \u001b[31m4.6 MB/s\u001b[0m eta \u001b[36m0:00:00\u001b[0m\n",
            "\u001b[?25hDownloading networkx-2.5.1-py3-none-any.whl (1.6 MB)\n",
            "\u001b[2K   \u001b[90m━━━━━━━━━━━━━━━━━━━━━━━━━━━━━━━━━━━━━━━━\u001b[0m \u001b[32m1.6/1.6 MB\u001b[0m \u001b[31m32.6 MB/s\u001b[0m eta \u001b[36m0:00:00\u001b[0m\n",
            "\u001b[?25hDownloading mne-1.8.0-py3-none-any.whl (7.4 MB)\n",
            "\u001b[2K   \u001b[90m━━━━━━━━━━━━━━━━━━━━━━━━━━━━━━━━━━━━━━━━\u001b[0m \u001b[32m7.4/7.4 MB\u001b[0m \u001b[31m51.9 MB/s\u001b[0m eta \u001b[36m0:00:00\u001b[0m\n",
            "\u001b[?25hDownloading neurokit2-0.2.10-py2.py3-none-any.whl (693 kB)\n",
            "\u001b[2K   \u001b[90m━━━━━━━━━━━━━━━━━━━━━━━━━━━━━━━━━━━━━━━━\u001b[0m \u001b[32m693.1/693.1 kB\u001b[0m \u001b[31m33.2 MB/s\u001b[0m eta \u001b[36m0:00:00\u001b[0m\n",
            "\u001b[?25hDownloading colorama-0.4.6-py2.py3-none-any.whl (25 kB)\n",
            "Downloading coloredlogs-15.0.1-py2.py3-none-any.whl (46 kB)\n",
            "\u001b[2K   \u001b[90m━━━━━━━━━━━━━━━━━━━━━━━━━━━━━━━━━━━━━━━━\u001b[0m \u001b[32m46.0/46.0 kB\u001b[0m \u001b[31m2.9 MB/s\u001b[0m eta \u001b[36m0:00:00\u001b[0m\n",
            "\u001b[?25hDownloading pylsl-1.16.2-py2.py3-none-any.whl (36 kB)\n",
            "Downloading python_dotenv-1.0.1-py3-none-any.whl (19 kB)\n",
            "Downloading python_osc-1.9.0-py3-none-any.whl (43 kB)\n",
            "\u001b[2K   \u001b[90m━━━━━━━━━━━━━━━━━━━━━━━━━━━━━━━━━━━━━━━━\u001b[0m \u001b[32m43.7/43.7 kB\u001b[0m \u001b[31m822.9 kB/s\u001b[0m eta \u001b[36m0:00:00\u001b[0m\n",
            "\u001b[?25hDownloading humanfriendly-10.0-py2.py3-none-any.whl (86 kB)\n",
            "\u001b[2K   \u001b[90m━━━━━━━━━━━━━━━━━━━━━━━━━━━━━━━━━━━━━━━━\u001b[0m \u001b[32m86.8/86.8 kB\u001b[0m \u001b[31m4.2 MB/s\u001b[0m eta \u001b[36m0:00:00\u001b[0m\n",
            "\u001b[?25hInstalling collected packages: pylsl, python-osc, python-dotenv, networkx, humanfriendly, colorama, coloredlogs, neurokit2, mne, timeflux, timeflux_dsp\n",
            "  Attempting uninstall: networkx\n",
            "    Found existing installation: networkx 3.4.2\n",
            "    Uninstalling networkx-3.4.2:\n",
            "      Successfully uninstalled networkx-3.4.2\n",
            "\u001b[31mERROR: pip's dependency resolver does not currently take into account all the packages that are installed. This behaviour is the source of the following dependency conflicts.\n",
            "nx-cugraph-cu12 24.10.0 requires networkx>=3.0, but you have networkx 2.5.1 which is incompatible.\n",
            "scikit-image 0.24.0 requires networkx>=2.8, but you have networkx 2.5.1 which is incompatible.\u001b[0m\u001b[31m\n",
            "\u001b[0mSuccessfully installed colorama-0.4.6 coloredlogs-15.0.1 humanfriendly-10.0 mne-1.8.0 networkx-2.5.1 neurokit2-0.2.10 pylsl-1.16.2 python-dotenv-1.0.1 python-osc-1.9.0 timeflux-0.17.1 timeflux_dsp-0.3.4\n"
          ]
        }
      ],
      "source": [
        "\n",
        "!pip install timeflux_dsp"
      ]
    }
  ]
}